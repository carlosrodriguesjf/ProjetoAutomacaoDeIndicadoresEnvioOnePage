{
 "cells": [
  {
   "cell_type": "markdown",
   "id": "df2d712e-df75-4d31-b75b-3def198c67e4",
   "metadata": {},
   "source": [
    "## Automação do Processo"
   ]
  },
  {
   "cell_type": "code",
   "execution_count": null,
   "id": "288c702d-741f-4dee-a8f0-0011535d2be3",
   "metadata": {},
   "outputs": [],
   "source": [
    "# Importando os dados (OK)\n",
    "# Criar uma tabela para cada loja (OK)\n",
    "# Criar um pasta para cada loja \n",
    "# Calcular os indicadores para cada loja\n",
    "# Montar a OnePage\n",
    "# salvar as planilhas na pasta Backup Arquivos Lojas. O formato do arquivo salvo deve ser por ex: 05_23_Nome da loja.xlsx \n",
    "# Enviar pora cada reespectivo gerente\n",
    "# Criar um ranking para as lojas \n",
    "# Enviar um e-mail para a diretoria"
   ]
  },
  {
   "cell_type": "code",
   "execution_count": null,
   "id": "c55df604-57a8-424e-964d-49101dc44f2f",
   "metadata": {},
   "outputs": [],
   "source": [
    "### Arquivos e Informações Importantes\n",
    "\n",
    "- Arquivo Emails.xlsx com o nome, a loja e o e-mail de cada gerente. Obs: Sugiro substituir a coluna de e-mail de cada gerente por um e-mail seu, para você poder testar o resultado\n",
    "\n",
    "- Arquivo Vendas.xlsx com as vendas de todas as lojas. Obs: Cada gerente só deve receber o OnePage e um arquivo em excel em anexo com as vendas da sua loja. As informações de outra loja não devem ser enviados ao gerente que não é daquela loja.\n",
    "\n",
    "- Arquivo Lojas.csv com o nome de cada Loja\n",
    "\n",
    "- Ao final, sua rotina deve enviar ainda um e-mail para a diretoria (informações também estão no arquivo Emails.xlsx) com 2 rankings das lojas em anexo, 1 ranking do dia e outro ranking anual. Além disso, no corpo do e-mail, deve ressaltar qual foi a melhor e a pior loja do dia e também a melhor e pior loja do ano. O ranking de uma loja é dado pelo faturamento da loja.\n",
    "\n",
    "- As planilhas de cada loja devem ser salvas dentro da pasta da loja com a data da planilha, a fim de criar um histórico de backup\n",
    "\n",
    "### Indicadores do OnePage\n",
    "\n",
    "- Faturamento -> Meta Ano: 1.650.000 / Meta Dia: 1000\n",
    "- Diversidade de Produtos (quantos produtos diferentes foram vendidos naquele período) -> Meta Ano: 120 / Meta Dia: 4\n",
    "- Ticket Médio por Venda -> Meta Ano: 500 / Meta Dia: 500\n",
    "\n",
    "Obs: Cada indicador deve ser calculado no dia e no ano. O indicador do dia deve ser o do último dia disponível na planilha de Vendas (a data mais recente)\n",
    "\n",
    "Obs2: Dica para o caracter do sinal verde e vermelho: pegue o caracter desse site (https://fsymbols.com/keyboard/windows/alt-codes/list/) e formate com html"
   ]
  },
  {
   "cell_type": "code",
   "execution_count": null,
   "id": "534a6b38-dea0-4e7d-bae5-79b27ad89e61",
   "metadata": {},
   "outputs": [],
   "source": []
  }
 ],
 "metadata": {
  "kernelspec": {
   "display_name": "Python 3 (ipykernel)",
   "language": "python",
   "name": "python3"
  },
  "language_info": {
   "codemirror_mode": {
    "name": "ipython",
    "version": 3
   },
   "file_extension": ".py",
   "mimetype": "text/x-python",
   "name": "python",
   "nbconvert_exporter": "python",
   "pygments_lexer": "ipython3",
   "version": "3.12.0"
  }
 },
 "nbformat": 4,
 "nbformat_minor": 5
}
