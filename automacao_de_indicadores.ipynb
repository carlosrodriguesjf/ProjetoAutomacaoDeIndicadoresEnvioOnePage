{
 "cells": [
  {
   "cell_type": "markdown",
   "id": "df2d712e-df75-4d31-b75b-3def198c67e4",
   "metadata": {},
   "source": [
    "## Automação de Indicadores"
   ]
  },
  {
   "cell_type": "code",
   "execution_count": null,
   "id": "4627d8d3-1a83-49f0-b89f-1b6025e8f83f",
   "metadata": {},
   "outputs": [],
   "source": [
    "# Importando os dados \n",
    "# Criar uma tabela para cada loja\n",
    "# Criar um pasta para cada loja e salvar as planilhas na pasta Backup Arquivos Lojas. O formato do arquivo salvo deve ser por ex: 05_23_Nome da loja.xlsx \n",
    "# Calcular os indicadores para cada loja\n",
    "# Montar a OnePage\n",
    "# Enviar pora cada reespectivo gerente\n",
    "# Criar um ranking para as lojas \n",
    "# Enviar um e-mail para a diretoria"
   ]
  },
  {
   "cell_type": "code",
   "execution_count": null,
   "id": "d6bec844-fc4d-489e-90c1-4aa59021b757",
   "metadata": {},
   "outputs": [],
   "source": [
    "#importando as bibliotecas\n",
    "import pandas as pd\n",
    "import os\n"
   ]
  },
  {
   "cell_type": "markdown",
   "id": "e2fe00e8-3a5e-457a-8878-98b27540b2d4",
   "metadata": {},
   "source": [
    "### Parte 1 - Criação das tabelas da loja"
   ]
  },
  {
   "cell_type": "code",
   "execution_count": null,
   "id": "859ea5b8-6351-4a30-b604-86495f0d1b95",
   "metadata": {},
   "outputs": [],
   "source": [
    "#importando base de dados lojas\n",
    "tabela_lojas = pd.read_csv(r'Bases de Dados\\Lojas.csv', encoding='ISO-8859-1', sep=';')\n",
    "tabela_lojas.head()"
   ]
  },
  {
   "cell_type": "code",
   "execution_count": null,
   "id": "bb7ef588-8699-4fcb-9536-18905d8c2d2f",
   "metadata": {},
   "outputs": [],
   "source": [
    "#importando base de dados Emails\n",
    "tabela_emails = pd.read_excel('Bases de Dados/Emails.xlsx')\n",
    "tabela_emails.head()"
   ]
  },
  {
   "cell_type": "code",
   "execution_count": null,
   "id": "a5112ddc-2235-4ba1-848e-8211c5c2a84f",
   "metadata": {},
   "outputs": [],
   "source": [
    "#importando base de dados Vendas\n",
    "tabela_vendas = pd.read_excel('Bases de Dados/Vendas.xlsx')\n",
    "tabela_vendas.head()"
   ]
  },
  {
   "cell_type": "code",
   "execution_count": null,
   "id": "57bd1f50-53bb-402a-842a-df04212ee3b1",
   "metadata": {},
   "outputs": [],
   "source": [
    "# Criando uma nova tabela de Vendas contendo o nome da loja\n",
    "tabela_vendas_completa = tabela_lojas.merge(tabela_vendas, how='inner', on=['ID Loja'])\n",
    "tabela_vendas_completa"
   ]
  },
  {
   "cell_type": "markdown",
   "id": "daaea706-770c-4d14-a9b7-ffc4574b3501",
   "metadata": {},
   "source": [
    "### Parte 2 - Criando um pasta, uma a tabela para cada loja e salvando os respectivos arquivos backup"
   ]
  },
  {
   "cell_type": "code",
   "execution_count": null,
   "id": "f0864bfd-d008-46d7-aa5d-01187a263c66",
   "metadata": {},
   "outputs": [],
   "source": [
    "# criando uma lista das lojas \n",
    "lista_lojas = list(tabela_lojas['Loja'])"
   ]
  },
  {
   "cell_type": "code",
   "execution_count": null,
   "id": "23aaa331-d74d-45e8-97f9-3bcb19ba7b36",
   "metadata": {},
   "outputs": [],
   "source": [
    "# Criando uma pasta para cada loja\n",
    "for loja in lista_lojas:\n",
    "    \n",
    "    if not os.path.isdir(f\"Backup Arquivos Lojas\\\\{loja}\"):\n",
    "        os.mkdir(f'Backup Arquivos Lojas\\\\{loja}')\n"
   ]
  },
  {
   "cell_type": "code",
   "execution_count": null,
   "id": "c78c45a9-9676-47f8-a266-0d4425879f00",
   "metadata": {},
   "outputs": [],
   "source": [
    "# Criando uma tabela para cada loja\n",
    "\n",
    "dicionario_lojas = {}\n",
    "\n",
    "for loja in lista_lojas:\n",
    "    dicionario_lojas[loja] = tabela_vendas_completa.loc[tabela_vendas_completa['Loja'] == loja]\n"
   ]
  },
  {
   "cell_type": "code",
   "execution_count": null,
   "id": "2532afd4-1dcd-44c6-930c-ede2bc0ba06d",
   "metadata": {},
   "outputs": [],
   "source": [
    "# Definindo a data do último dia \n",
    "data_atual = tabela_vendas_completa['Data'].max().strftime(\"%d/%m/%Y\")\n",
    "dia_atual = data_atual[:2]\n",
    "mes_atual = data_atual[3:5]"
   ]
  },
  {
   "cell_type": "code",
   "execution_count": null,
   "id": "92a12da5",
   "metadata": {},
   "outputs": [],
   "source": [
    "# Salvando os arquivos de backup nas respectivas \n",
    "for loja in dicionario_lojas.keys():\n",
    "\n",
    "    # Verificando se a pasta já existe\n",
    "    if not os.path.isdir(f\"Backup Arquivos Lojas\\\\{loja}\"):\n",
    "\n",
    "        os.mkdir(f'Backup Arquivos Lojas\\\\{loja}')\n",
    "\n",
    "    # Salvando o arquivos de da respectiva pasta\n",
    "    dicionario_lojas[loja].to_excel(f'Backup Arquivos Lojas/{loja}/{mes_atual}_{dia_atual}_{loja}.xlsx', index=False)\n"
   ]
  },
  {
   "cell_type": "markdown",
   "id": "79ca7b7c-e973-4453-911b-0563abb6e566",
   "metadata": {},
   "source": [
    "### Parte 3 - Cálculo dos indicadores"
   ]
  },
  {
   "cell_type": "markdown",
   "id": "79b25d42-4fa2-4cbf-85ab-58e110b736a9",
   "metadata": {},
   "source": [
    "#### Calculo do Faturamento -> Meta Ano: 1.650.000 / Meta Dia: 1000"
   ]
  },
  {
   "cell_type": "code",
   "execution_count": null,
   "id": "19c0f101-6c66-4b81-a70d-9c5664e6b9ff",
   "metadata": {},
   "outputs": [],
   "source": [
    "# Faturamento anual por loja\n",
    "for loja in lista_lojas:\n",
    "    faturamento_ano = dicionario_lojas[loja]\n",
    "    faturamento_ano = faturamento_ano.groupby(['Loja']).sum(['Valor Final'])\n",
    "    display(faturamento_ano['Valor Final'])"
   ]
  },
  {
   "cell_type": "code",
   "execution_count": null,
   "id": "b793d26e-5cd1-4d2e-8213-64527303d87d",
   "metadata": {},
   "outputs": [],
   "source": [
    "# Faturamento hoje por loja\n",
    "faturamento_por_loja = tabela_vendas_completa.groupby(['Data','Loja']).sum()['Valor Final'].agg(hoje)\n",
    "melhor_loja_hoje = faturamento_por_loja.sort_values(axis=0,ascending=False)\n",
    "print(f\"A melhor loja hoje foi a loja {melhor_loja_hoje.index[0]}\")\n"
   ]
  },
  {
   "cell_type": "markdown",
   "id": "2ec31ff7-fc0b-474e-81b6-a8243ed11db6",
   "metadata": {},
   "source": [
    "#### Calculo da Diversidade de Produtos (quantos produtos diferentes foram vendidos naquele período) -> Meta Ano: 120 / Meta Dia: 4"
   ]
  },
  {
   "cell_type": "code",
   "execution_count": null,
   "id": "0adc6384-03c9-4e33-8989-c2354c163e51",
   "metadata": {},
   "outputs": [],
   "source": [
    "tabela_vendas.groupby(['Produto']).sum(['Quantidade'])['Quantidade'].count()\n",
    "\n",
    "\n",
    "tabela_vendas.groupby(['Produto','Data']).sum(['Quantidade'])['Quantidade'].count().unique()\n"
   ]
  },
  {
   "cell_type": "markdown",
   "id": "07183c2e-58c0-443e-b237-a7cc7de63529",
   "metadata": {},
   "source": [
    "####  Calculo do Ticket Médio por Venda -> Meta Ano: 500 / Meta Dia: 500"
   ]
  },
  {
   "cell_type": "code",
   "execution_count": null,
   "id": "2d210a33-fa1e-4b48-b2e0-f0b9c443bf2c",
   "metadata": {},
   "outputs": [],
   "source": [
    "# Ticket médio por ano\n",
    "total_vendas = tabela_vendas['Quantidade'].count()\n",
    "\n",
    "ticket_medio = faturamento_total / total_vendas\n",
    "ticket_medio\n"
   ]
  },
  {
   "cell_type": "code",
   "execution_count": null,
   "id": "63f5f899-8f42-48f0-9dda-952d3380af8b",
   "metadata": {},
   "outputs": [],
   "source": [
    "# Ticket médio por dia\n",
    "\n"
   ]
  },
  {
   "cell_type": "code",
   "execution_count": null,
   "id": "f0d4077b-0cb6-4540-9219-37e42f2fd501",
   "metadata": {},
   "outputs": [],
   "source": []
  }
 ],
 "metadata": {
  "kernelspec": {
   "display_name": "Python 3 (ipykernel)",
   "language": "python",
   "name": "python3"
  },
  "language_info": {
   "codemirror_mode": {
    "name": "ipython",
    "version": 3
   },
   "file_extension": ".py",
   "mimetype": "text/x-python",
   "name": "python",
   "nbconvert_exporter": "python",
   "pygments_lexer": "ipython3",
   "version": "3.12.0"
  }
 },
 "nbformat": 4,
 "nbformat_minor": 5
}
